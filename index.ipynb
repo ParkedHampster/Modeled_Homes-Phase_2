{
 "cells": [
  {
   "attachments": {},
   "cell_type": "markdown",
   "metadata": {},
   "source": [
    "## Variable Definitions"
   ]
  },
  {
   "cell_type": "code",
   "execution_count": 1,
   "metadata": {},
   "outputs": [
    {
     "ename": "NameError",
     "evalue": "name 'sns' is not defined",
     "output_type": "error",
     "traceback": [
      "\u001b[0;31m---------------------------------------------------------------------------\u001b[0m",
      "\u001b[0;31mNameError\u001b[0m                                 Traceback (most recent call last)",
      "\u001b[0;32m<ipython-input-1-c83be033fa33>\u001b[0m in \u001b[0;36m<module>\u001b[0;34m\u001b[0m\n\u001b[0;32m----> 1\u001b[0;31m \u001b[0msns\u001b[0m\u001b[0;34m.\u001b[0m\u001b[0mset\u001b[0m\u001b[0;34m(\u001b[0m\u001b[0;34m)\u001b[0m\u001b[0;34m\u001b[0m\u001b[0;34m\u001b[0m\u001b[0m\n\u001b[0m",
      "\u001b[0;31mNameError\u001b[0m: name 'sns' is not defined"
     ]
    }
   ],
   "source": [
    "sns.set()"
   ]
  },
  {
   "cell_type": "code",
   "execution_count": 2,
   "metadata": {},
   "outputs": [],
   "source": [
    "alpha = 0.05            # default confidence \n",
    "upper_cost = 5000000    # <= $5,000,"
   ]
  },
  {
   "attachments": {},
   "cell_type": "markdown",
   "metadata": {},
   "source": [
    "## DataFrame Definitions"
   ]
  },
  {
   "attachments": {},
   "cell_type": "markdown",
   "metadata": {},
   "source": [
    "housing_df['zip'] = housing_df['address'].map(lambda x: x.split(',')[-2][-5:])\n",
    "housing_df['town']= housing_df['address'].map(lambda x: x.split(',')[-3].strip())\n",
    "housing_df.drop(columns=['address','lat','long'])\n",
    "kc_only = housing_df.merge(zip_codes['Zip Codes'].astype(str),left_on='zip',right_on='Zip Codes',how='inner')"
   ]
  },
  {
   "cell_type": "code",
   "execution_count": null,
   "metadata": {},
   "outputs": [],
   "source": [
    "display(kc_only.describe(), kc_only.info())"
   ]
  },
  {
   "attachments": {},
   "cell_type": "markdown",
   "metadata": {},
   "source": [
    "Create homes_df, which only includes houses over 400sqft - which is the point where a house becomes a tiny home.\n",
    "\n",
    "Additionally, we are only looking at houses that have a bathroom and a bedroom, as well we are cutting off anything above our upper cost range, $5,000,000 in this case."
   ]
  },
  {
   "cell_type": "code",
   "execution_count": null,
   "metadata": {},
   "outputs": [],
   "source": [
    "homes_df = kc_only[(kc_only['sqft_living'] > 400) &\n",
    "    (kc_only['bedrooms'] > 0) &\n",
    "    (kc_only['bathrooms'] > 0) &\n",
    "    (kc_only['price'] < upper_cost)                        # <= dropping houses valued at and over $5,000,000 - most demographics will not be looking for this.\n",
    "    ]"
   ]
  },
  {
   "attachments": {},
   "cell_type": "markdown",
   "metadata": {},
   "source": [
    "Create a dataframe that only has housing data where there are at least 100 houses in a given zip code  \n",
    "This is to ensure that there is substantial explanatory information when investigating the zip code's effect on pricing later."
   ]
  },
  {
   "cell_type": "code",
   "execution_count": null,
   "metadata": {},
   "outputs": [],
   "source": [
    "# get zip codes that have at least 100 entries\n",
    "\n",
    "zip_counts = homes_df['zip'].value_counts().rename('zip_counts')\n",
    "zips_counted = homes_df.merge(\n",
    "    zip_counts,\n",
    "    left_on='zip',\n",
    "    right_index=True\n",
    ")\n",
    "zips_counted.info()\n",
    "min_zips = zips_counted[zips_counted['zip_counts'] >= 100]\n",
    "min_zips\n"
   ]
  },
  {
   "cell_type": "code",
   "execution_count": null,
   "metadata": {},
   "outputs": [],
   "source": [
    "display(homes_df.info(), min_zips.info())"
   ]
  },
  {
   "attachments": {},
   "cell_type": "markdown",
   "metadata": {},
   "source": [
    "Create a dataframe of zip codes that are sorted by their median price descending, this is useful for finding the highest-priced zip code to use as a reference point when investigating zip code effect on price."
   ]
  },
  {
   "cell_type": "code",
   "execution_count": null,
   "metadata": {},
   "outputs": [],
   "source": [
    "zip_by_price_median = min_zips[\n",
    "    ['zip', 'price']].groupby(by='zip').agg(\n",
    "        {'price': 'median', 'zip': 'size'}\n",
    ").rename(\n",
    "    columns={'zip': 'count'}\n",
    ").reset_index().sort_values('price', ascending=False)\n",
    "zip_by_price_median"
   ]
  },
  {
   "attachments": {},
   "cell_type": "markdown",
   "metadata": {},
   "source": [
    "Create an OLS model that describes the zip code's ability to describe price. Output this as a dataframe object that can be called and indexed into."
   ]
  },
  {
   "cell_type": "code",
   "execution_count": null,
   "metadata": {},
   "outputs": [],
   "source": [
    "y = homes_df['price']\n",
    "X = sm.add_constant(\n",
    "    pd.get_dummies(homes_df['zip']).drop(\n",
    "        # <= selectl the (median) highest-priced zip to drop it\n",
    "        zip_by_price_median.iloc[0]['zip'],\n",
    "        axis=1\n",
    "    ))\n",
    "\n",
    "zip_model = sm.OLS(y, X).fit().summary2()\n",
    "print(zip_model)"
   ]
  },
  {
   "attachments": {},
   "cell_type": "markdown",
   "metadata": {},
   "source": [
    "Create two graphs, one that displays the value of prices by zip code and one that "
   ]
  },
  {
   "cell_type": "code",
   "execution_count": null,
   "metadata": {},
   "outputs": [],
   "source": [
    "fig, ax = plt.subplots(2, 1, sharex=True, figsize=(20, 10))\n",
    "\n",
    "y = [zip_by_price_median['price'], zip_by_price_median['count']]\n",
    "x = zip_by_price_median['zip']\n",
    "\n",
    "ax[0].bar(x=x, height=y[0])\n",
    "ax[1].bar(x=x, height=y[1])\n",
    "\n",
    "ax[0].set(\n",
    "    title='median house price by zip and count of houses by zip',\n",
    "    ylabel='Sale Price'\n",
    ")\n",
    "ax[1].set(\n",
    "    ylabel='Number of Houses',\n",
    "    xlabel='Zip Code',\n",
    ")\n",
    "\n",
    "dollar_format = mtick.StrMethodFormatter('${x:,.0f}')\n",
    "ax[0].yaxis.set_major_formatter(dollar_format)\n",
    "plt.xticks(rotation=45)\n",
    "plt.tight_layout()\n",
    "''"
   ]
  }
 ],
 "metadata": {
  "kernelspec": {
   "display_name": "learn-env",
   "language": "python",
   "name": "python3"
  },
  "language_info": {
   "codemirror_mode": {
    "name": "ipython",
    "version": 3
   },
   "file_extension": ".py",
   "mimetype": "text/x-python",
   "name": "python",
   "nbconvert_exporter": "python",
   "pygments_lexer": "ipython3",
   "version": "3.8.5"
  },
  "orig_nbformat": 4
 },
 "nbformat": 4,
 "nbformat_minor": 2
}
